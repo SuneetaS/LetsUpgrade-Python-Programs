{
 "cells": [
  {
   "cell_type": "markdown",
   "metadata": {},
   "source": [
    "# Assignment Day -4"
   ]
  },
  {
   "cell_type": "markdown",
   "metadata": {},
   "source": [
    "# Answer-1\n",
    "# Write down a program in Python for Opening a File and Writing \" I Love \n",
    "# LetsUpgrade\" And close it, and read it back again, and then append some\n",
    "# data to it and close it."
   ]
  },
  {
   "cell_type": "code",
   "execution_count": 1,
   "metadata": {},
   "outputs": [],
   "source": [
    "file = open (\"file_creation.txt\", 'w')                   #File creating \n",
    "file.write(\"I Love LetsUpgrade!\")                         #Text writing\n",
    "file.close()  "
   ]
  },
  {
   "cell_type": "code",
   "execution_count": 3,
   "metadata": {},
   "outputs": [
    {
     "name": "stdout",
     "output_type": "stream",
     "text": [
      "I Love LetsUpgrade! Nice Upgrading !! \n"
     ]
    }
   ],
   "source": [
    "file = open (\"file_creation.txt\", 'r+')                # File reading & appending\n",
    "print (file.read()) \n",
    "file.write(\" Nice Upgrading !! \")\n",
    "file.close()"
   ]
  },
  {
   "cell_type": "markdown",
   "metadata": {},
   "source": []
  },
  {
   "cell_type": "markdown",
   "metadata": {},
   "source": [
    "# Answer-2\n",
    "# Write a function which can return a Factorial of any numbers as INT, given in the argument."
   ]
  },
  {
   "cell_type": "code",
   "execution_count": 4,
   "metadata": {},
   "outputs": [],
   "source": [
    "def factorial(fact):\n",
    "    n = int(fact)\n",
    "    f = 1\n",
    "    if n < 0:\n",
    "        return \"Please, enter a valid number\"\n",
    "    elif n == 0:\n",
    "        return \"The Factorial of 0 is 1\"\n",
    "    else:\n",
    "        for i in range(1,n + 1):\n",
    "            f = f*i\n",
    "        return \"The Factorial of\", n ,\"is\" , int(f)"
   ]
  },
  {
   "cell_type": "code",
   "execution_count": 5,
   "metadata": {},
   "outputs": [
    {
     "name": "stdout",
     "output_type": "stream",
     "text": [
      "The Factorial of 0 is 1\n"
     ]
    }
   ],
   "source": [
    "print(factorial(0))"
   ]
  },
  {
   "cell_type": "code",
   "execution_count": null,
   "metadata": {},
   "outputs": [],
   "source": []
  }
 ],
 "metadata": {
  "kernelspec": {
   "display_name": "Python 3",
   "language": "python",
   "name": "python3"
  },
  "language_info": {
   "codemirror_mode": {
    "name": "ipython",
    "version": 3
   },
   "file_extension": ".py",
   "mimetype": "text/x-python",
   "name": "python",
   "nbconvert_exporter": "python",
   "pygments_lexer": "ipython3",
   "version": "3.8.5"
  }
 },
 "nbformat": 4,
 "nbformat_minor": 4
}
