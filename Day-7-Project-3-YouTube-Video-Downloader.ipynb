{
 "cells": [
  {
   "cell_type": "markdown",
   "metadata": {},
   "source": [
    "# Program for YouTube Downloader\n"
   ]
  },
  {
   "cell_type": "code",
   "execution_count": 1,
   "metadata": {},
   "outputs": [
    {
     "name": "stdout",
     "output_type": "stream",
     "text": [
      "Entry box https://www.youtube.com/watch?v=5AOfDuV6X30\n"
     ]
    }
   ],
   "source": [
    "\n",
    "import pytube\n",
    "\n",
    "from pytube import YouTube\n",
    "\n",
    "from tkinter import *\n",
    "\n",
    "root = Tk()\n",
    "\n",
    "root.geometry(\"300x400\")\n",
    "root.title(\"YouTube Video Download\")\n",
    "\n",
    "def youtube():\n",
    "    a=var.get()    #https://www.youtube.com/watch?v=5AOfDuV6X30\n",
    "    ytvideo= YouTube(a).streams.filter(progressive=True,file_extension=\"mp4\").order_by('resolution').desc().first()\n",
    "    #print(ytvideo)\n",
    "    ytvideo.download(r\"F:\\DW\")\n",
    "    \n",
    "    print(\"Entry box\",a)\n",
    "   \n",
    "\n",
    "\n",
    "l1=Label(root,text = \"YouTube Video Link\",fg=\"Red\",font=(\"bold\",20))\n",
    "l1.place(x=20,y=20)\n",
    "\n",
    "var=StringVar()\n",
    "e1=Entry(root,textvariable=var,width=30)\n",
    "e1.place(x=50,y=100)\n",
    "\n",
    "b1=Button(root,text=\"Download\",bg=\"Green\",width=16,fg=\"white\",command=youtube)\n",
    "b1.place(x=80,y=150)\n",
    "\n",
    "\n",
    "\n",
    "\n",
    "root.mainloop()"
   ]
  },
  {
   "cell_type": "code",
   "execution_count": null,
   "metadata": {},
   "outputs": [],
   "source": []
  }
 ],
 "metadata": {
  "kernelspec": {
   "display_name": "Python 3",
   "language": "python",
   "name": "python3"
  },
  "language_info": {
   "codemirror_mode": {
    "name": "ipython",
    "version": 3
   },
   "file_extension": ".py",
   "mimetype": "text/x-python",
   "name": "python",
   "nbconvert_exporter": "python",
   "pygments_lexer": "ipython3",
   "version": "3.8.5"
  }
 },
 "nbformat": 4,
 "nbformat_minor": 4
}
