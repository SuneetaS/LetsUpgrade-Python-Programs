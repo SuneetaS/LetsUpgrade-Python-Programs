{
 "cells": [
  {
   "cell_type": "markdown",
   "metadata": {},
   "source": [
    "# Program to covert a Text in Cipher Text when key is available convert it back in Normal Text"
   ]
  },
  {
   "cell_type": "code",
   "execution_count": 1,
   "metadata": {},
   "outputs": [],
   "source": [
    "from cryptography.fernet import Fernet"
   ]
  },
  {
   "cell_type": "code",
   "execution_count": 2,
   "metadata": {},
   "outputs": [],
   "source": [
    "def generatepasskey():                                              #Function-1\n",
    "    key = Fernet.generate_key()\n",
    "    print(key)\n",
    "    print(type(key))\n",
    "    abc=open(\"pswdkey.key\",\"wb\")               \n",
    "    abc.write(key)\n",
    "    abc.close()"
   ]
  },
  {
   "cell_type": "code",
   "execution_count": 3,
   "metadata": {},
   "outputs": [],
   "source": [
    "def getmykey():                                                       #Function-2 \n",
    "    abc = open(\"pswdkey.key\",\"rb\")\n",
    "    return abc.read()"
   ]
  },
  {
   "cell_type": "code",
   "execution_count": 4,
   "metadata": {},
   "outputs": [],
   "source": [
    "def getContentFromUser():                                             #Function-3 \n",
    "    return input(\"Enter the Text which you want to Encrypt--->\")"
   ]
  },
  {
   "cell_type": "code",
   "execution_count": 5,
   "metadata": {},
   "outputs": [],
   "source": [
    "def encryptMessage(message_normal):                                     #Function-4 \n",
    "    key = getmykey()\n",
    "    k = Fernet(key)\n",
    "    encrypted_message = k.encrypt(message_normal)\n",
    "    return encrypted_message"
   ]
  },
  {
   "cell_type": "code",
   "execution_count": 6,
   "metadata": {},
   "outputs": [],
   "source": [
    "def decryptMessage(message_secret):                                    #Function-5  \n",
    "    key = getmykey()\n",
    "    k = Fernet(key)\n",
    "    decrypted_message = k.decrypt(message_secret)\n",
    "    return decrypted_message\n",
    "    "
   ]
  },
  {
   "cell_type": "code",
   "execution_count": 7,
   "metadata": {},
   "outputs": [
    {
     "name": "stdout",
     "output_type": "stream",
     "text": [
      "Enter the Text which you want to Encrypt--->HAPPY LEARNING!!!\n",
      "b'iBIvFgh4WQ11dqI0BxZaRJ9En05O-NwrUm7BFhVuOTw='\n",
      "<class 'bytes'>\n",
      "Your Encrypted Text Is--> b'gAAAAABf18GWvLNtrwP-erBnI1hylr1ow5uKZtbJA9-4Axp2cTc4s3q7NYEGACWOKVugtLjdnYNo2I3mAAA07FgwSf9cndzpmSkkiBS86dHSlT079ci_rws='\n",
      "Your Decrypted Text IS--> b'HAPPY LEARNING!!!'\n"
     ]
    }
   ],
   "source": [
    "usermessage = getContentFromUser()\n",
    "s= bytes(usermessage, 'utf-8')\n",
    "k = generatepasskey()\n",
    "e_m = encryptMessage(s)\n",
    "print(\"Your Encrypted Text Is-->\", e_m)\n",
    "d_m = decryptMessage(e_m)\n",
    "print(\"Your Decrypted Text IS-->\", d_m)"
   ]
  },
  {
   "cell_type": "code",
   "execution_count": null,
   "metadata": {},
   "outputs": [],
   "source": []
  }
 ],
 "metadata": {
  "kernelspec": {
   "display_name": "Python 3",
   "language": "python",
   "name": "python3"
  },
  "language_info": {
   "codemirror_mode": {
    "name": "ipython",
    "version": 3
   },
   "file_extension": ".py",
   "mimetype": "text/x-python",
   "name": "python",
   "nbconvert_exporter": "python",
   "pygments_lexer": "ipython3",
   "version": "3.8.5"
  }
 },
 "nbformat": 4,
 "nbformat_minor": 4
}
