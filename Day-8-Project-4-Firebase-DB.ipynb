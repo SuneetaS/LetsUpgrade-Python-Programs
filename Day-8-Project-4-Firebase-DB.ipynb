{
 "cells": [
  {
   "cell_type": "markdown",
   "metadata": {},
   "source": [
    "# Day-8-Project-4-Read & write to a real time Database server like Firebase"
   ]
  },
  {
   "cell_type": "code",
   "execution_count": null,
   "metadata": {},
   "outputs": [],
   "source": [
    "!pip install firebase"
   ]
  },
  {
   "cell_type": "code",
   "execution_count": null,
   "metadata": {},
   "outputs": [],
   "source": [
    "import  firebase_admin \n",
    "from firebase_admin import credentials\n",
    "from firebase_admin import firestore"
   ]
  },
  {
   "cell_type": "code",
   "execution_count": null,
   "metadata": {},
   "outputs": [],
   "source": [
    "cred = credentials.Certificate(\"python-project-8c564-firebase-adminsdk-yfv2e-cd40d76f08.json\")\n",
    "firebase_admin.initialize_app(cred)\n",
    "\n",
    "db = firestore.client()"
   ]
  },
  {
   "cell_type": "code",
   "execution_count": null,
   "metadata": {},
   "outputs": [],
   "source": [
    "def enterDataInDB():                                          #taking data from user\n",
    "    doc_ref = db.collection(u'MyDB').document()\n",
    "    \n",
    "    name = input(\"Enter Name:---\")\n",
    "    lastname = input(\"Enter lastname:----\")\n",
    "    age = int(input(\"Enter age:----\"))\n",
    "    \n",
    "    dit = {}\n",
    "    dit[\"firstname\"] = name\n",
    "    dit[\"lastname\"] = lastname\n",
    "    dit[\"age\"] = age\n",
    "    \n",
    "    doc_ref.set(dit)"
   ]
  },
  {
   "cell_type": "code",
   "execution_count": null,
   "metadata": {},
   "outputs": [],
   "source": [
    "docs = db.collection(u'MyDB').stream()                # for printing a data in a particular format\n",
    "\n",
    "for doc in docs:\n",
    "    print(\"ID---\", doc.id)\n",
    "    print(\"First Name----\", doc.to_dict().get(\"firstname\"))\n",
    "    print(\"Last Name----\", doc.to_dict().get(\"lastname\"))\n",
    "    print(\"Age----\", doc.to_dict().get(\"age\"))\n",
    "            \n",
    "    print(\"*****************************\")\n",
    "    print(\"*****************************\")"
   ]
  },
  {
   "cell_type": "code",
   "execution_count": null,
   "metadata": {},
   "outputs": [],
   "source": [
    "def updateDatainFirebase(uid, updatedage):                 # for updating or editing data\n",
    "    doc_ref = db.collection(u'MyDB').document(uid)\n",
    "     \n",
    "    doc_ref.update({\"age\":updatedage})"
   ]
  },
  {
   "cell_type": "code",
   "execution_count": null,
   "metadata": {},
   "outputs": [],
   "source": [
    "updateDatainFirebase(\"xwBJgfc18hpNMj4ks0Av\",24)  "
   ]
  },
  {
   "cell_type": "code",
   "execution_count": null,
   "metadata": {},
   "outputs": [],
   "source": [
    "def deleteDatainFirebase(uid):                            # for deleting data\n",
    "    db.collection(u'MyDB').document(uid).delete()"
   ]
  },
  {
   "cell_type": "code",
   "execution_count": null,
   "metadata": {},
   "outputs": [],
   "source": [
    "deleteDatainFirebase(\"ewtUh7Dra4dkGFld6Vbj\") "
   ]
  }
 ],
 "metadata": {
  "kernelspec": {
   "display_name": "Python 3",
   "language": "python",
   "name": "python3"
  },
  "language_info": {
   "codemirror_mode": {
    "name": "ipython",
    "version": 3
   },
   "file_extension": ".py",
   "mimetype": "text/x-python",
   "name": "python",
   "nbconvert_exporter": "python",
   "pygments_lexer": "ipython3",
   "version": "3.8.5"
  }
 },
 "nbformat": 4,
 "nbformat_minor": 4
}
